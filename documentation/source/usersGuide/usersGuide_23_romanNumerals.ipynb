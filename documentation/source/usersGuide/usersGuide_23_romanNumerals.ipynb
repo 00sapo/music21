{
 "cells": [
  {
   "cell_type": "markdown",
   "metadata": {},
   "source": [
    "# User's Guide, Chapter 23: Roman Numeral Analysis"
   ]
  },
  {
   "cell_type": "markdown",
   "metadata": {},
   "source": [
    "F major is a chord that has the notes F, A, and usually C.  Those notes, placed in the same octave, instrument, dynamics, etc., should have basically the same acoustical properties each time it's played, but human perception of this chord can seem to vary dramatically depending on the context the chord is placed in.  One of the most powerful contexts that can give the same isolated sound remarkably different meanings comes from its surrounding key.\n",
    "\n",
    "Roman numeral analysis is a way to identify certain similarities in tonal music (whether classical, folk, or popular) that have traditionally been assigned to different chords that appear on the same scale degrees in different keys."
   ]
  },
  {
   "cell_type": "raw",
   "metadata": {
    "collapsed": true
   },
   "source": [
    ".. note::\n",
    "   For a basic introduction to Roman numeral analysis, see \n",
    "   the strong `Wikipedia article <https://en.wikipedia.org/wiki/Roman_numeral_analysis>`_  \n",
    "   or, for a quick review, the great PDF cheatsheet \n",
    "   at `\"Learn Music Theory\" <http://learnmusictheory.net/PDFs/pdffiles/01-05-02-RomanNumerals.pdf>`_ "
   ]
  },
  {
   "cell_type": "markdown",
   "metadata": {},
   "source": [
    "Let's create an F-major chord but convert it to roman numerals in a few different contexts by creating different key objects.  First the setup:"
   ]
  },
  {
   "cell_type": "code",
   "execution_count": 9,
   "metadata": {},
   "outputs": [
    {
     "data": {
      "image/png": "[encoded data removed]",
      "text/plain": [
       "<IPython.core.display.Image object>"
      ]
     },
     "metadata": {
      "image/png": {
       "height": 55,
       "width": 150
      }
     },
     "output_type": "display_data"
    }
   ],
   "source": [
    "f = chord.Chord('F4 C5 A5')\n",
    "kf = key.Key('F')\n",
    "sf = stream.Measure([kf, f])\n",
    "sf.show()"
   ]
  },
  {
   "cell_type": "code",
   "execution_count": 3,
   "metadata": {},
   "outputs": [
    {
     "data": {
      "image/png": "[encoded data removed]",
      "text/plain": [
       "<IPython.core.display.Image object>"
      ]
     },
     "metadata": {
      "image/png": {
       "height": 55,
       "width": 150
      }
     },
     "output_type": "display_data"
    }
   ],
   "source": [
    "kc = key.Key('C')\n",
    "sc = stream.Part([kc, f])\n",
    "sc.show()"
   ]
  },
  {
   "cell_type": "code",
   "execution_count": 5,
   "metadata": {},
   "outputs": [
    {
     "data": {
      "image/png": "[encoded data removed]",
      "text/plain": [
       "<IPython.core.display.Image object>"
      ]
     },
     "metadata": {
      "image/png": {
       "height": 61,
       "width": 236
      }
     },
     "output_type": "display_data"
    }
   ],
   "source": [
    "kb = key.Key('B') \n",
    "sb = stream.Part([kb, f])\n",
    "sb.show()"
   ]
  },
  {
   "cell_type": "markdown",
   "metadata": {},
   "source": [
    "Now that we have four different keys, let's create Roman numerals from the F major chord and each of the keys.  We will use a function from the :ref:`moduleRoman` module called :func:`~music21.roman.romanNumeralFromChord` (which we saw briefly in :ref:`Chapter 10 <users_guide_10_examples1>`).  We pass to this function a `Chord` object and a `Key` object."
   ]
  },
  {
   "cell_type": "code",
   "execution_count": 21,
   "metadata": {},
   "outputs": [
    {
     "data": {
      "text/plain": [
       "<music21.roman.RomanNumeral I in F major>"
      ]
     },
     "execution_count": 21,
     "metadata": {},
     "output_type": "execute_result"
    }
   ],
   "source": [
    "rf = roman.romanNumeralFromChord(f, kf)\n",
    "rf"
   ]
  },
  {
   "cell_type": "code",
   "execution_count": 12,
   "metadata": {},
   "outputs": [
    {
     "data": {
      "text/plain": [
       "<music21.roman.RomanNumeral IV in C major>"
      ]
     },
     "execution_count": 12,
     "metadata": {},
     "output_type": "execute_result"
    }
   ],
   "source": [
    "rc = roman.romanNumeralFromChord(f, kc)\n",
    "rc"
   ]
  },
  {
   "cell_type": "markdown",
   "metadata": {},
   "source": [
    "`Music21` tries its best to find a Roman numeral for almost any combination of chord and key, even if, like in B major:"
   ]
  },
  {
   "cell_type": "code",
   "execution_count": 13,
   "metadata": {},
   "outputs": [
    {
     "data": {
      "text/plain": [
       "<music21.roman.RomanNumeral bV in B major>"
      ]
     },
     "execution_count": 13,
     "metadata": {},
     "output_type": "execute_result"
    }
   ],
   "source": [
    "rb = roman.romanNumeralFromChord(f, kb)\n",
    "rb"
   ]
  },
  {
   "cell_type": "markdown",
   "metadata": {},
   "source": [
    "Each :class:`~music21.roman.RomanNumeral` object has some common properties, such as `.figure`, `.key`, and `.scaleDegree`:"
   ]
  },
  {
   "cell_type": "code",
   "execution_count": 14,
   "metadata": {},
   "outputs": [
    {
     "data": {
      "text/plain": [
       "('I', 'IV', 'bV')"
      ]
     },
     "execution_count": 14,
     "metadata": {},
     "output_type": "execute_result"
    }
   ],
   "source": [
    "(rf.figure, rc.figure, rb.figure)"
   ]
  },
  {
   "cell_type": "code",
   "execution_count": 16,
   "metadata": {},
   "outputs": [
    {
     "data": {
      "text/plain": [
       "(<music21.key.Key of F major>,\n",
       " <music21.key.Key of C major>,\n",
       " <music21.key.Key of B major>)"
      ]
     },
     "execution_count": 16,
     "metadata": {},
     "output_type": "execute_result"
    }
   ],
   "source": [
    "(rf.key, rc.key, rb.key)"
   ]
  },
  {
   "cell_type": "code",
   "execution_count": 17,
   "metadata": {},
   "outputs": [
    {
     "data": {
      "text/plain": [
       "(1, 4, 5)"
      ]
     },
     "execution_count": 17,
     "metadata": {},
     "output_type": "execute_result"
    }
   ],
   "source": [
    "(rf.scaleDegree, rc.scaleDegree, rb.scaleDegree)"
   ]
  },
  {
   "cell_type": "markdown",
   "metadata": {},
   "source": [
    "Note that in the last case, the scale degree is the uninflicted degree -- the flat sign isn't included in the `.scaleDegree` tag.  For that, use `.scaleDegreeWithAlteration`"
   ]
  },
  {
   "cell_type": "code",
   "execution_count": 18,
   "metadata": {},
   "outputs": [
    {
     "data": {
      "text/plain": [
       "(1, None)"
      ]
     },
     "execution_count": 18,
     "metadata": {},
     "output_type": "execute_result"
    }
   ],
   "source": [
    "rf.scaleDegreeWithAlteration"
   ]
  },
  {
   "cell_type": "code",
   "execution_count": 19,
   "metadata": {},
   "outputs": [
    {
     "data": {
      "text/plain": [
       "(5, <accidental flat>)"
      ]
     },
     "execution_count": 19,
     "metadata": {},
     "output_type": "execute_result"
    }
   ],
   "source": [
    "rb.scaleDegreeWithAlteration"
   ]
  },
  {
   "cell_type": "markdown",
   "metadata": {},
   "source": [
    "`RomanNumeral` objects are `Music21Objects` so they can be put into Streams and showed:"
   ]
  },
  {
   "cell_type": "code",
   "execution_count": 23,
   "metadata": {},
   "outputs": [
    {
     "data": {
      "image/png": "[encoded data removed]",
      "text/plain": [
       "<IPython.core.display.Image object>"
      ]
     },
     "metadata": {
      "image/png": {
       "height": 55,
       "width": 137
      }
     },
     "output_type": "display_data"
    }
   ],
   "source": [
    "s = stream.Measure()\n",
    "s.insert(0, rf)\n",
    "s.show()"
   ]
  },
  {
   "cell_type": "markdown",
   "metadata": {},
   "source": [
    "Note that the spacing of the roman numeral is preserved from the chord that it was converted from.  If we create a `RomanNumeral` object directly, then it is created in closed position above a tonic note in octave 4:"
   ]
  },
  {
   "cell_type": "code",
   "execution_count": 27,
   "metadata": {},
   "outputs": [
    {
     "data": {
      "text/plain": [
       "<music21.roman.RomanNumeral I in F major>"
      ]
     },
     "execution_count": 27,
     "metadata": {},
     "output_type": "execute_result"
    }
   ],
   "source": [
    "rf2 = roman.RomanNumeral('I', kf)\n",
    "rf2"
   ]
  },
  {
   "cell_type": "code",
   "execution_count": 26,
   "metadata": {},
   "outputs": [
    {
     "data": {
      "image/png": "[encoded data removed]",
      "text/plain": [
       "<IPython.core.display.Image object>"
      ]
     },
     "metadata": {
      "image/png": {
       "height": 49,
       "width": 137
      }
     },
     "output_type": "display_data"
    }
   ],
   "source": [
    "rf2.show()"
   ]
  },
  {
   "cell_type": "markdown",
   "metadata": {},
   "source": [
    "It is possible to pass in just a roman numeral (\"I\", \"ii\", \"iii\", \"IV\", etc.) and a string (\"C\" = C major, \"c\" = c minor) to create a RomanNumeral object:"
   ]
  },
  {
   "cell_type": "code",
   "execution_count": 28,
   "metadata": {},
   "outputs": [
    {
     "data": {
      "image/png": "[encoded data removed]",
      "text/plain": [
       "<IPython.core.display.Image object>"
      ]
     },
     "metadata": {
      "image/png": {
       "height": 61,
       "width": 153
      }
     },
     "output_type": "display_data"
    }
   ],
   "source": [
    "roman.RomanNumeral(\"IV7\", \"B-\").show()"
   ]
  },
  {
   "cell_type": "code",
   "execution_count": 31,
   "metadata": {},
   "outputs": [
    {
     "data": {
      "image/png": "[encoded data removed]",
      "text/plain": [
       "<IPython.core.display.Image object>"
      ]
     },
     "metadata": {
      "image/png": {
       "height": 50,
       "width": 181
      }
     },
     "output_type": "display_data"
    }
   ],
   "source": [
    "roman.RomanNumeral(\"ii65\", \"E\").show()"
   ]
  },
  {
   "cell_type": "markdown",
   "metadata": {},
   "source": [
    "Many of these properties can be changed:"
   ]
  },
  {
   "cell_type": "code",
   "execution_count": 20,
   "metadata": {},
   "outputs": [
    {
     "data": {
      "image/png": "[encoded data removed]",
      "text/plain": [
       "<IPython.core.display.Image object>"
      ]
     },
     "metadata": {
      "image/png": {
       "height": 49,
       "width": 146
      }
     },
     "output_type": "display_data"
    }
   ],
   "source": [
    "rf.key = key.Key('D')\n",
    "rf.show()"
   ]
  },
  {
   "cell_type": "markdown",
   "metadata": {},
   "source": [
    "Changing the key removes any information about pitch spacing.  You can't have everything.  :-)"
   ]
  },
  {
   "cell_type": "code",
   "execution_count": 32,
   "metadata": {},
   "outputs": [],
   "source": [
    "rf.key = key.Key('F')  # restore it...\n"
   ]
  },
  {
   "cell_type": "code",
   "execution_count": 37,
   "metadata": {},
   "outputs": [],
   "source": [
    "rf.inversion(0)"
   ]
  },
  {
   "cell_type": "code",
   "execution_count": 35,
   "metadata": {},
   "outputs": [
    {
     "data": {
      "text/plain": [
       "<music21.roman.RomanNumeral I in F major>"
      ]
     },
     "execution_count": 35,
     "metadata": {},
     "output_type": "execute_result"
    }
   ],
   "source": [
    "rf"
   ]
  },
  {
   "cell_type": "code",
   "execution_count": 36,
   "metadata": {},
   "outputs": [
    {
     "data": {
      "image/png": "[encoded data removed]",
      "text/plain": [
       "<IPython.core.display.Image object>"
      ]
     },
     "metadata": {
      "image/png": {
       "height": 79,
       "width": 137
      }
     },
     "output_type": "display_data"
    }
   ],
   "source": [
    "rf.show()"
   ]
  },
  {
   "cell_type": "code",
   "execution_count": null,
   "metadata": {},
   "outputs": [],
   "source": []
  },
  {
   "cell_type": "code",
   "execution_count": null,
   "metadata": {},
   "outputs": [],
   "source": []
  },
  {
   "cell_type": "code",
   "execution_count": null,
   "metadata": {},
   "outputs": [],
   "source": []
  },
  {
   "cell_type": "code",
   "execution_count": null,
   "metadata": {},
   "outputs": [],
   "source": []
  },
  {
   "cell_type": "code",
   "execution_count": null,
   "metadata": {},
   "outputs": [],
   "source": []
  },
  {
   "cell_type": "code",
   "execution_count": null,
   "metadata": {},
   "outputs": [],
   "source": []
  },
  {
   "cell_type": "code",
   "execution_count": null,
   "metadata": {},
   "outputs": [],
   "source": []
  },
  {
   "cell_type": "code",
   "execution_count": 15,
   "metadata": {},
   "outputs": [
    {
     "data": {
      "text/plain": [
       "('major', 'major', 'major')"
      ]
     },
     "execution_count": 15,
     "metadata": {},
     "output_type": "execute_result"
    }
   ],
   "source": [
    "(rf.quality, rc.quality, rb.quality)"
   ]
  }
 ],
 "metadata": {
  "kernelspec": {
   "display_name": "Python 3",
   "language": "python",
   "name": "python3"
  },
  "language_info": {
   "codemirror_mode": {
    "name": "ipython",
    "version": 3
   },
   "file_extension": ".py",
   "mimetype": "text/x-python",
   "name": "python",
   "nbconvert_exporter": "python",
   "pygments_lexer": "ipython3",
   "version": "3.6.0"
  }
 },
 "nbformat": 4,
 "nbformat_minor": 2
}
