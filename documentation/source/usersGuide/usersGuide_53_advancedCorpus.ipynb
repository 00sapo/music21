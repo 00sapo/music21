{
 "cells": [
  {
   "cell_type": "markdown",
   "metadata": {},
   "source": [
    "# User's Guide, Chapter 53: Advanced Corpus and Metadata Searching\n",
    "\n",
    "We saw in :ref:`Chapter 11<usersGuide_11_corpusSearching>` some ways to work with and search through the \"core\" corpus.  Not everything is in the core corpus, of course, so the `converter.parse()` function is a great way of getting files from a local hard drive or the internet.  But the \"core\" corpus also has many great search functions, and these can be helpful for working with your own files and files on the web as well.\n",
    "\n",
    "In this chapter, we'll introduce the other \"Corpora\" in addition to the \"core\" corpus.  These include a \"virtual\" corpus of internet pieces as well as one or more \"local\" corpora for storing pieces that you might have but which you can't or do not wish to share on the net.  We'll start with the one that everyone has access to, the \"virtual\" corpus."
   ]
  },
  {
   "cell_type": "markdown",
   "metadata": {
    "collapsed": true
   },
   "source": [
    "## The Virtual Corpus\n",
    "\n",
    "Music21 also has the notion of a *virtual* corpus: a collection of musical\n",
    "works to be found at various locations online which, for reasons of licensing,\n",
    "haven't been included in the *core* corpus.  There are not too many files in there, but it is something we hope to expand.  Load the virtual corpus as follows:"
   ]
  },
  {
   "cell_type": "code",
   "execution_count": 1,
   "metadata": {},
   "outputs": [
    {
     "data": {
      "text/plain": [
       "<music21.corpus.corpora.VirtualCorpus>"
      ]
     },
     "execution_count": 1,
     "metadata": {},
     "output_type": "execute_result"
    }
   ],
   "source": [
    "from music21 import *\n",
    "\n",
    "virtualCorpus = corpus.corpora.VirtualCorpus()\n",
    "virtualCorpus"
   ]
  },
  {
   "cell_type": "markdown",
   "metadata": {},
   "source": [
    "The virtual corpus can be searched just like the main corpus:"
   ]
  },
  {
   "cell_type": "code",
   "execution_count": 2,
   "metadata": {},
   "outputs": [
    {
     "data": {
      "text/plain": [
       "<music21.metadata.bundles.MetadataBundle {0 entries}>"
      ]
     },
     "execution_count": 2,
     "metadata": {},
     "output_type": "execute_result"
    }
   ],
   "source": [
    "coltraneSearch = virtualCorpus.search('coltrane')\n",
    "coltraneSearch"
   ]
  },
  {
   "cell_type": "code",
   "execution_count": 3,
   "metadata": {},
   "outputs": [
    {
     "ename": "IndexError",
     "evalue": "list index out of range",
     "output_type": "error",
     "traceback": [
      "\u001b[0;31m---------------------------------------------------------------------------\u001b[0m",
      "\u001b[0;31mIndexError\u001b[0m                                Traceback (most recent call last)",
      "\u001b[0;32m<ipython-input-3-18c5003de1a5>\u001b[0m in \u001b[0;36m<module>\u001b[0;34m()\u001b[0m\n\u001b[0;32m----> 1\u001b[0;31m \u001b[0mcoltraneSearch\u001b[0m\u001b[0;34m[\u001b[0m\u001b[0;36m0\u001b[0m\u001b[0;34m]\u001b[0m\u001b[0;34m\u001b[0m\u001b[0m\n\u001b[0m",
      "\u001b[0;32m/Users/cuthbert/git/music21base/music21/metadata/bundles.py\u001b[0m in \u001b[0;36m__getitem__\u001b[0;34m(self, i)\u001b[0m\n\u001b[1;32m    350\u001b[0m \u001b[0;34m\u001b[0m\u001b[0m\n\u001b[1;32m    351\u001b[0m     \u001b[0;32mdef\u001b[0m \u001b[0m__getitem__\u001b[0m\u001b[0;34m(\u001b[0m\u001b[0mself\u001b[0m\u001b[0;34m,\u001b[0m \u001b[0mi\u001b[0m\u001b[0;34m)\u001b[0m\u001b[0;34m:\u001b[0m\u001b[0;34m\u001b[0m\u001b[0m\n\u001b[0;32m--> 352\u001b[0;31m         \u001b[0;32mreturn\u001b[0m \u001b[0mlist\u001b[0m\u001b[0;34m(\u001b[0m\u001b[0mself\u001b[0m\u001b[0;34m.\u001b[0m\u001b[0m_metadataEntries\u001b[0m\u001b[0;34m.\u001b[0m\u001b[0mvalues\u001b[0m\u001b[0;34m(\u001b[0m\u001b[0;34m)\u001b[0m\u001b[0;34m)\u001b[0m\u001b[0;34m[\u001b[0m\u001b[0mi\u001b[0m\u001b[0;34m]\u001b[0m\u001b[0;34m\u001b[0m\u001b[0m\n\u001b[0m\u001b[1;32m    353\u001b[0m \u001b[0;34m\u001b[0m\u001b[0m\n\u001b[1;32m    354\u001b[0m     \u001b[0;32mdef\u001b[0m \u001b[0m__gt__\u001b[0m\u001b[0;34m(\u001b[0m\u001b[0mself\u001b[0m\u001b[0;34m,\u001b[0m \u001b[0mmetadataBundle\u001b[0m\u001b[0;34m)\u001b[0m\u001b[0;34m:\u001b[0m\u001b[0;34m\u001b[0m\u001b[0m\n",
      "\u001b[0;31mIndexError\u001b[0m: list index out of range"
     ]
    }
   ],
   "source": [
    "coltraneSearch[0]"
   ]
  },
  {
   "cell_type": "markdown",
   "metadata": {},
   "source": [
    "These pieces can be parsed just like anything on your own computer, they just take a little longer and depend on having an internet connection."
   ]
  },
  {
   "cell_type": "code",
   "execution_count": 4,
   "metadata": {},
   "outputs": [
    {
     "ename": "CorpusException",
     "evalue": "Could not find an xml or mxl work that met this criterion: http://impromastering.com/uploads/transcription_file/file/196/Giant_Steps__John_Coltrane_C.xml; if you are searching for a file on disk, use \"converter\" instead of \"corpus\".",
     "output_type": "error",
     "traceback": [
      "\u001b[0;31m---------------------------------------------------------------------------\u001b[0m",
      "\u001b[0;31mCorpusException\u001b[0m                           Traceback (most recent call last)",
      "\u001b[0;32m<ipython-input-4-b55f67024e9c>\u001b[0m in \u001b[0;36m<module>\u001b[0;34m()\u001b[0m\n\u001b[1;32m      1\u001b[0m \u001b[0mcoltraneEntry\u001b[0m \u001b[0;34m=\u001b[0m \u001b[0mcoltraneSearch\u001b[0m\u001b[0;34m[\u001b[0m\u001b[0;36m0\u001b[0m\u001b[0;34m]\u001b[0m\u001b[0;34m\u001b[0m\u001b[0m\n\u001b[0;32m----> 2\u001b[0;31m \u001b[0mcoltraneScore\u001b[0m \u001b[0;34m=\u001b[0m \u001b[0mcoltraneEntry\u001b[0m\u001b[0;34m.\u001b[0m\u001b[0mparse\u001b[0m\u001b[0;34m(\u001b[0m\u001b[0;34m)\u001b[0m\u001b[0;34m\u001b[0m\u001b[0m\n\u001b[0m\u001b[1;32m      3\u001b[0m \u001b[0mcoltraneScore\u001b[0m\u001b[0;34m.\u001b[0m\u001b[0mmeasures\u001b[0m\u001b[0;34m(\u001b[0m\u001b[0;36m1\u001b[0m\u001b[0;34m,\u001b[0m \u001b[0;36m2\u001b[0m\u001b[0;34m)\u001b[0m\u001b[0;34m.\u001b[0m\u001b[0mshow\u001b[0m\u001b[0;34m(\u001b[0m\u001b[0;34m)\u001b[0m\u001b[0;34m\u001b[0m\u001b[0m\n",
      "\u001b[0;32m/Users/cuthbert/git/music21base/music21/metadata/bundles.py\u001b[0m in \u001b[0;36mparse\u001b[0;34m(self)\u001b[0m\n\u001b[1;32m    107\u001b[0m             \u001b[0;32mreturn\u001b[0m \u001b[0mcorpus\u001b[0m\u001b[0;34m.\u001b[0m\u001b[0mparse\u001b[0m\u001b[0;34m(\u001b[0m\u001b[0mself\u001b[0m\u001b[0;34m.\u001b[0m\u001b[0msourcePath\u001b[0m\u001b[0;34m,\u001b[0m \u001b[0mnumber\u001b[0m\u001b[0;34m=\u001b[0m\u001b[0mself\u001b[0m\u001b[0;34m.\u001b[0m\u001b[0mnumber\u001b[0m\u001b[0;34m)\u001b[0m\u001b[0;34m\u001b[0m\u001b[0m\n\u001b[1;32m    108\u001b[0m         \u001b[0;32melse\u001b[0m\u001b[0;34m:\u001b[0m\u001b[0;34m\u001b[0m\u001b[0m\n\u001b[0;32m--> 109\u001b[0;31m             \u001b[0;32mreturn\u001b[0m \u001b[0mcorpus\u001b[0m\u001b[0;34m.\u001b[0m\u001b[0mparse\u001b[0m\u001b[0;34m(\u001b[0m\u001b[0mself\u001b[0m\u001b[0;34m.\u001b[0m\u001b[0msourcePath\u001b[0m\u001b[0;34m)\u001b[0m\u001b[0;34m\u001b[0m\u001b[0m\n\u001b[0m\u001b[1;32m    110\u001b[0m \u001b[0;34m\u001b[0m\u001b[0m\n\u001b[1;32m    111\u001b[0m     \u001b[0;32mdef\u001b[0m \u001b[0mshow\u001b[0m\u001b[0;34m(\u001b[0m\u001b[0mself\u001b[0m\u001b[0;34m,\u001b[0m \u001b[0mshowFormat\u001b[0m\u001b[0;34m=\u001b[0m\u001b[0;32mNone\u001b[0m\u001b[0;34m)\u001b[0m\u001b[0;34m:\u001b[0m\u001b[0;34m\u001b[0m\u001b[0m\n",
      "\u001b[0;32m/Users/cuthbert/git/music21base/music21/corpus/__init__.py\u001b[0m in \u001b[0;36mparse\u001b[0;34m(workName, movementNumber, number, fileExtensions, forceSource, format)\u001b[0m\n\u001b[1;32m    332\u001b[0m         \u001b[0mfileExtensions\u001b[0m\u001b[0;34m=\u001b[0m\u001b[0mfileExtensions\u001b[0m\u001b[0;34m,\u001b[0m\u001b[0;34m\u001b[0m\u001b[0m\n\u001b[1;32m    333\u001b[0m         \u001b[0mforceSource\u001b[0m\u001b[0;34m=\u001b[0m\u001b[0mforceSource\u001b[0m\u001b[0;34m,\u001b[0m\u001b[0;34m\u001b[0m\u001b[0m\n\u001b[0;32m--> 334\u001b[0;31m         \u001b[0mformat\u001b[0m\u001b[0;34m=\u001b[0m\u001b[0mformat\u001b[0m \u001b[0;31m# @ReservedAssignment\u001b[0m\u001b[0;34m\u001b[0m\u001b[0m\n\u001b[0m\u001b[1;32m    335\u001b[0m         )\n\u001b[1;32m    336\u001b[0m \u001b[0;34m\u001b[0m\u001b[0m\n",
      "\u001b[0;32m/Users/cuthbert/git/music21base/music21/corpus/manager.py\u001b[0m in \u001b[0;36mparse\u001b[0;34m(workName, movementNumber, number, fileExtensions, forceSource, format)\u001b[0m\n\u001b[1;32m    214\u001b[0m     filePath = getWork(workName=workName,\n\u001b[1;32m    215\u001b[0m                         \u001b[0mmovementNumber\u001b[0m\u001b[0;34m=\u001b[0m\u001b[0mmovementNumber\u001b[0m\u001b[0;34m,\u001b[0m\u001b[0;34m\u001b[0m\u001b[0m\n\u001b[0;32m--> 216\u001b[0;31m                         \u001b[0mfileExtensions\u001b[0m\u001b[0;34m=\u001b[0m\u001b[0mfileExtensions\u001b[0m\u001b[0;34m,\u001b[0m\u001b[0;34m\u001b[0m\u001b[0m\n\u001b[0m\u001b[1;32m    217\u001b[0m                        )\n\u001b[1;32m    218\u001b[0m     \u001b[0;32mif\u001b[0m \u001b[0misinstance\u001b[0m\u001b[0;34m(\u001b[0m\u001b[0mfilePath\u001b[0m\u001b[0;34m,\u001b[0m \u001b[0mlist\u001b[0m\u001b[0;34m)\u001b[0m\u001b[0;34m:\u001b[0m\u001b[0;34m\u001b[0m\u001b[0m\n",
      "\u001b[0;32m/Users/cuthbert/git/music21base/music21/corpus/manager.py\u001b[0m in \u001b[0;36mgetWork\u001b[0;34m(workName, movementNumber, fileExtensions)\u001b[0m\n\u001b[1;32m    197\u001b[0m         \u001b[0mwarningMessage\u001b[0m \u001b[0;34m+=\u001b[0m \u001b[0;34m' if you are searching for a file on disk, '\u001b[0m\u001b[0;34m\u001b[0m\u001b[0m\n\u001b[1;32m    198\u001b[0m         \u001b[0mwarningMessage\u001b[0m \u001b[0;34m+=\u001b[0m \u001b[0;34m'use \"converter\" instead of \"corpus\".'\u001b[0m\u001b[0;34m\u001b[0m\u001b[0m\n\u001b[0;32m--> 199\u001b[0;31m         \u001b[0;32mraise\u001b[0m \u001b[0mCorpusException\u001b[0m\u001b[0;34m(\u001b[0m\u001b[0mwarningMessage\u001b[0m\u001b[0;34m)\u001b[0m\u001b[0;34m\u001b[0m\u001b[0m\n\u001b[0m\u001b[1;32m    200\u001b[0m     \u001b[0;32melse\u001b[0m\u001b[0;34m:\u001b[0m\u001b[0;34m\u001b[0m\u001b[0m\n\u001b[1;32m    201\u001b[0m         \u001b[0;32mif\u001b[0m \u001b[0mlen\u001b[0m\u001b[0;34m(\u001b[0m\u001b[0mfilePaths\u001b[0m\u001b[0;34m)\u001b[0m \u001b[0;34m==\u001b[0m \u001b[0;36m1\u001b[0m\u001b[0;34m:\u001b[0m\u001b[0;34m\u001b[0m\u001b[0m\n",
      "\u001b[0;31mCorpusException\u001b[0m: Could not find an xml or mxl work that met this criterion: http://impromastering.com/uploads/transcription_file/file/196/Giant_Steps__John_Coltrane_C.xml; if you are searching for a file on disk, use \"converter\" instead of \"corpus\"."
     ]
    }
   ],
   "source": [
    "coltraneEntry = coltraneSearch[0]\n",
    "coltraneScore = coltraneEntry.parse()\n",
    "coltraneScore.measures(1, 2).show()"
   ]
  },
  {
   "cell_type": "code",
   "execution_count": null,
   "metadata": {},
   "outputs": [],
   "source": [
    "x = 'http://impromastering.com/uploads/transcription_file/file/196/Giant_Steps__John_Coltrane_C.xml'\n",
    "virtualCorpus.getWorkList(x)"
   ]
  },
  {
   "cell_type": "code",
   "execution_count": 7,
   "metadata": {},
   "outputs": [
    {
     "data": {
      "text/plain": [
       "'http://impromastering.com/uploads/transcription_file/file/196/Giant_Steps__John_Coltrane_C.xml'"
      ]
     },
     "execution_count": 7,
     "metadata": {},
     "output_type": "execute_result"
    }
   ],
   "source": [
    "coltraneEntry.sourcePath"
   ]
  },
  {
   "cell_type": "code",
   "execution_count": 4,
   "metadata": {},
   "outputs": [
    {
     "data": {
      "text/plain": [
       "['http://kern.ccarh.org/cgi-bin/ksdata?l=cc/bach/cello&file=bwv1007-01.krn&f=xml',\n",
       " 'http://kern.ccarh.org/cgi-bin/ksdata?l=cc/bach/cello&file=bwv1007-01.krn&f=kern',\n",
       " 'http://kern.ccarh.org/cgi-bin/ksdata?l=osu/classical/bach/inventions&file=inven01.krn&f=xml',\n",
       " 'http://kern.ccarh.org/cgi-bin/ksdata?l=osu/classical/bach/inventions&file=inven02.krn&f=xml',\n",
       " 'http://kern.ccarh.org/cgi-bin/ksdata?l=osu/classical/bach/inventions&file=inven02.krn&f=kern',\n",
       " 'http://impromastering.com/uploads/transcription_file/file/196/Giant_Steps__John_Coltrane_C.xml',\n",
       " 'http://kern.ccarh.org/cgi-bin/ksdata?l=cc/pachelbel&file=canon.krn&f=xml',\n",
       " 'http://kern.ccarh.org/cgi-bin/ksdata?l=cc/schubert/piano/d0576&file=d0576-06.krn&f=xml',\n",
       " 'http://kern.ccarh.org/cgi-bin/ksdata?l=users/craig/classical/schubert/piano/d0576&file=d0576-02.krn&f=xml',\n",
       " 'http://kern.ccarh.org/cgi-bin/ksdata?l=users/craig/classical/schubert/piano/d0576&file=d0576-03.krn&f=xml',\n",
       " 'http://kern.ccarh.org/cgi-bin/ksdata?l=users/craig/classical/schubert/piano/d0576&file=d0576-04.krn&f=xml']"
      ]
     },
     "execution_count": 4,
     "metadata": {},
     "output_type": "execute_result"
    }
   ],
   "source": [
    "virtualCorpus.getPaths()"
   ]
  },
  {
   "cell_type": "code",
   "execution_count": 5,
   "metadata": {},
   "outputs": [
    {
     "data": {
      "text/plain": [
       "'http:__impromastering_com_uploads_transcription_file_file_196_Giant_Steps__John_Coltrane_C_xml'"
      ]
     },
     "execution_count": 5,
     "metadata": {},
     "output_type": "execute_result"
    }
   ],
   "source": [
    "mdb = virtualCorpus.metadataBundle\n",
    "mdb.corpusPathToKey('http://impromastering.com/uploads/transcription_file/file/196/Giant_Steps__John_Coltrane_C.xml')"
   ]
  },
  {
   "cell_type": "code",
   "execution_count": 8,
   "metadata": {},
   "outputs": [
    {
     "data": {
      "text/plain": [
       "'/Users/cuthbert/git/music21base/music21/corpus/palestrina/Credo_40.krn'"
      ]
     },
     "execution_count": 8,
     "metadata": {},
     "output_type": "execute_result"
    }
   ],
   "source": [
    "core = corpus.corpora.CoreCorpus()\n",
    "pal = core.getPaths()[1000]\n",
    "pal"
   ]
  },
  {
   "cell_type": "code",
   "execution_count": 10,
   "metadata": {},
   "outputs": [
    {
     "data": {
      "text/plain": [
       "'palestrina_Credo_40_krn'"
      ]
     },
     "execution_count": 10,
     "metadata": {},
     "output_type": "execute_result"
    }
   ],
   "source": [
    "core.metadataBundle.corpusPathToKey(pal)"
   ]
  },
  {
   "cell_type": "code",
   "execution_count": 11,
   "metadata": {},
   "outputs": [
    {
     "data": {
      "text/plain": [
       "<music21.metadata.bundles.MetadataEntry: palestrina_Agnus_krn>"
      ]
     },
     "execution_count": 11,
     "metadata": {},
     "output_type": "execute_result"
    }
   ],
   "source": [
    "pal1 = corpus.search('palestrina')[0]\n",
    "pal1"
   ]
  },
  {
   "cell_type": "code",
   "execution_count": 14,
   "metadata": {},
   "outputs": [
    {
     "data": {
      "text/plain": [
       "'palestrina/Agnus.krn'"
      ]
     },
     "execution_count": 14,
     "metadata": {},
     "output_type": "execute_result"
    }
   ],
   "source": [
    "pal1.sourcePath"
   ]
  },
  {
   "cell_type": "code",
   "execution_count": 16,
   "metadata": {},
   "outputs": [
    {
     "data": {
      "text/plain": [
       "<music21.metadata.bundles.MetadataEntry: trecento_PMFC_06-Jacopo-01-Aquila-Altera_xml>"
      ]
     },
     "execution_count": 16,
     "metadata": {},
     "output_type": "execute_result"
    }
   ],
   "source": [
    "trec = corpus.corpora.LocalCorpus('trecento')\n",
    "jac1 = corpus.search('jacopo')[0]\n",
    "jac1"
   ]
  },
  {
   "cell_type": "code",
   "execution_count": 19,
   "metadata": {},
   "outputs": [
    {
     "data": {
      "text/plain": [
       "'trecento_PMFC_06-Jacopo-01-Aquila-Altera_xml'"
      ]
     },
     "execution_count": 19,
     "metadata": {},
     "output_type": "execute_result"
    }
   ],
   "source": [
    "jac1.corpusPath"
   ]
  },
  {
   "cell_type": "code",
   "execution_count": 18,
   "metadata": {},
   "outputs": [
    {
     "data": {
      "text/plain": [
       "<music21.stream.Score 0x10e482080>"
      ]
     },
     "execution_count": 18,
     "metadata": {},
     "output_type": "execute_result"
    }
   ],
   "source": [
    "jac1.parse()"
   ]
  },
  {
   "cell_type": "code",
   "execution_count": 24,
   "metadata": {},
   "outputs": [
    {
     "data": {
      "text/plain": [
       "<music21.stream.Score 0x10e482438>"
      ]
     },
     "execution_count": 24,
     "metadata": {},
     "output_type": "execute_result"
    }
   ],
   "source": [
    "corpus.parse('coltrane')"
   ]
  },
  {
   "cell_type": "markdown",
   "metadata": {},
   "source": [
    "## Creating multiple corpus repositories via local corpora\n",
    "\n",
    "In addition to the default local corpus, music21 allows users to create\n",
    "and save as many named local corpora as they like, which will persist from\n",
    "session to session.\n",
    "\n",
    "Let's create a new *local* corpus, give it a directory to find music files in,\n",
    "and then save it:\n"
   ]
  },
  {
   "cell_type": "code",
   "execution_count": null,
   "metadata": {},
   "outputs": [],
   "source": [
    "from music21 import *\n",
    "\n",
    "aNewLocalCorpus = corpus.corpora.LocalCorpus('newCorpus')\n",
    "aNewLocalCorpus.existsInSettings"
   ]
  },
  {
   "cell_type": "code",
   "execution_count": null,
   "metadata": {},
   "outputs": [],
   "source": [
    "aNewLocalCorpus.addPath('~/Desktop')\n",
    "#_DOCS_SHOW aNewLocalCorpus.directoryPaths\n",
    "print(\"('/Users/josiah/Desktop',)\") #_DOCS_HIDE"
   ]
  },
  {
   "cell_type": "code",
   "execution_count": null,
   "metadata": {},
   "outputs": [],
   "source": [
    "aNewLocalCorpus.save()\n",
    "aNewLocalCorpus.existsInSettings"
   ]
  },
  {
   "cell_type": "markdown",
   "metadata": {},
   "source": [
    "We can see that our new *local* corpus is saved by checking for the names of\n",
    "all saved *local* corpora using the corpus.manager list:"
   ]
  },
  {
   "cell_type": "code",
   "execution_count": null,
   "metadata": {},
   "outputs": [],
   "source": [
    "#_DOCS_SHOW corpus.manager.listLocalCorporaNames()\n",
    "print(\"[None, 'funk', 'newCorpus', 'bach']\") #_DOCS_HIDE"
   ]
  },
  {
   "cell_type": "raw",
   "metadata": {},
   "source": [
    "..  note::\n",
    "\n",
    "    When running ``listLocalCorporaNames()``, you will see ``None`` -\n",
    "    indicating the default *local* corpus - along with the names of any\n",
    "    non-default *local* corpora you've manually created yourself. In the above\n",
    "    example, a number of other corpora have already been created.\n",
    "    \n",
    "    In Python2, take care to make all of these \"unicode\" entries."
   ]
  },
  {
   "cell_type": "markdown",
   "metadata": {},
   "source": [
    "Finally, we can delete the *local* corpus we previously created like this:"
   ]
  },
  {
   "cell_type": "code",
   "execution_count": null,
   "metadata": {},
   "outputs": [],
   "source": [
    "aNewLocalCorpus.delete()\n",
    "aNewLocalCorpus.existsInSettings"
   ]
  },
  {
   "cell_type": "markdown",
   "metadata": {
    "collapsed": true
   },
   "source": [
    "## Inspecting metadata bundle search results\n",
    "\n",
    "Let's take a closer look at some search results:"
   ]
  },
  {
   "cell_type": "code",
   "execution_count": null,
   "metadata": {},
   "outputs": [],
   "source": [
    "bachBundle = corpus.corpora.CoreCorpus().search('bach', 'composer')\n",
    "bachBundle"
   ]
  },
  {
   "cell_type": "code",
   "execution_count": null,
   "metadata": {},
   "outputs": [],
   "source": [
    "bachBundle[0]"
   ]
  },
  {
   "cell_type": "code",
   "execution_count": null,
   "metadata": {},
   "outputs": [],
   "source": [
    "bachBundle[0].sourcePath"
   ]
  },
  {
   "cell_type": "code",
   "execution_count": null,
   "metadata": {},
   "outputs": [],
   "source": [
    "bachBundle[0].metadataPayload"
   ]
  },
  {
   "cell_type": "code",
   "execution_count": null,
   "metadata": {},
   "outputs": [],
   "source": [
    "mdpl = bachBundle[0].metadataPayload\n",
    "mdpl.noteCount"
   ]
  },
  {
   "cell_type": "code",
   "execution_count": null,
   "metadata": {},
   "outputs": [],
   "source": [
    "bachAnalysis0 = bachBundle[0].parse()\n",
    "bachAnalysis0.show()"
   ]
  },
  {
   "cell_type": "markdown",
   "metadata": {},
   "source": [
    "## Manipulating multiple metadata bundles\n",
    "\n",
    "Another useful feature of `music21`'s metadata bundles is that they can be\n",
    "operated on as though they were sets, allowing you to union, intersect and\n",
    "difference multiple metadata bundles, thereby creating more complex search\n",
    "results:"
   ]
  },
  {
   "cell_type": "code",
   "execution_count": null,
   "metadata": {},
   "outputs": [],
   "source": [
    "corelliBundle = corpus.search('corelli', field='composer')\n",
    "corelliBundle"
   ]
  },
  {
   "cell_type": "code",
   "execution_count": null,
   "metadata": {},
   "outputs": [],
   "source": [
    "bachBundle.union(corelliBundle)"
   ]
  },
  {
   "cell_type": "markdown",
   "metadata": {},
   "source": [
    "Consult the API for class:`~music21.metadata.bundles.MetadataBundle` for a more\n",
    "in depth look at how this works."
   ]
  },
  {
   "cell_type": "markdown",
   "metadata": {},
   "source": [
    "## Getting a metadata bundle"
   ]
  },
  {
   "cell_type": "markdown",
   "metadata": {},
   "source": [
    "In music21, metadata is information *about* a score, such as its composer,\n",
    "title, initial key signature or ambitus. A metadata *bundle* is a collection of\n",
    "metadata pulled from an arbitrarily large group of different scores. Users can\n",
    "search through metadata bundles to find scores with certain qualities, such as\n",
    "all scores in a given corpus with a time signature of ``6/8``, or all scores\n",
    "composed by Monteverdi.\n",
    "\n",
    "There are a number of different ways to acquire a metadata bundle.  The easiest way\n",
    "to get the metadataBundle for the core corpus is simply to download music21: we\n",
    "include a pre-made metadataBundle (in ``corpus/metadataCache/core.json``) so\n",
    "that this step is unnecessary for the core corpus unless you're contributing to\n",
    "the project.  But you may want to create metadata bundles for your own local corpora.\n",
    "Access the ``metadataBundle`` attribute of any ``Corpus`` instance to get its\n",
    "corresponding metadata bundle:"
   ]
  },
  {
   "cell_type": "code",
   "execution_count": null,
   "metadata": {},
   "outputs": [],
   "source": [
    "coreCorpus = corpus.corpora.CoreCorpus()\n",
    "coreCorpus.metadataBundle"
   ]
  },
  {
   "cell_type": "markdown",
   "metadata": {},
   "source": [
    "Music21 also provides a handful of convenience methods for getting metadata\n",
    "bundles associated with the *virtual*, *local* or *core* corpora:"
   ]
  },
  {
   "cell_type": "code",
   "execution_count": null,
   "metadata": {},
   "outputs": [],
   "source": [
    "coreBundle = corpus.corpora.CoreCorpus().metadataBundle\n",
    "localBundle = corpus.corpora.LocalCorpus().metadataBundle\n",
    "otherLocalBundle = corpus.corpora.LocalCorpus('blah').metadataBundle\n",
    "virtualBundle = corpus.corpora.VirtualCorpus().metadataBundle"
   ]
  },
  {
   "cell_type": "markdown",
   "metadata": {},
   "source": [
    "But really advanced users can also make metadata bundles manually, by passing in the name of the\n",
    "corpus you want the bundle to refer to, or, equivalently, an actual ``Corpus`` instance\n",
    "itself:"
   ]
  },
  {
   "cell_type": "code",
   "execution_count": null,
   "metadata": {},
   "outputs": [],
   "source": [
    "coreBundle = metadata.bundles.MetadataBundle('core')\n",
    "coreBundle = metadata.bundles.MetadataBundle(corpus.corpora.CoreCorpus())"
   ]
  },
  {
   "cell_type": "markdown",
   "metadata": {},
   "source": [
    "However, you'll need to read the bundle's saved data from disk before you can\n",
    "do anything useful with the bundle. Bundles don't read their associated JSON\n",
    "files automatically when they're manually instantiated."
   ]
  },
  {
   "cell_type": "code",
   "execution_count": null,
   "metadata": {},
   "outputs": [],
   "source": [
    "coreBundle"
   ]
  },
  {
   "cell_type": "code",
   "execution_count": null,
   "metadata": {},
   "outputs": [],
   "source": [
    "coreBundle.read()"
   ]
  },
  {
   "cell_type": "markdown",
   "metadata": {},
   "source": [
    "## Creating persistent metadata bundles\n",
    "\n",
    "Metadata bundles can take a long time to create.  So it'd be nice if they could be written to and read from disk.  Unfortunately we never got around to...nah, just kidding.  Of course you can.  Just call `.write()` on one:"
   ]
  },
  {
   "cell_type": "code",
   "execution_count": null,
   "metadata": {},
   "outputs": [],
   "source": [
    "coreBundle = metadata.bundles.MetadataBundle('core')\n",
    "coreBundle.read()"
   ]
  },
  {
   "cell_type": "code",
   "execution_count": null,
   "metadata": {},
   "outputs": [],
   "source": [
    "#_DOCS_SHOW coreBundle.write()"
   ]
  },
  {
   "cell_type": "markdown",
   "metadata": {},
   "source": [
    "They can also be completely rebuilt, as you will want to do for local\n",
    "corpora. To add information to a bundle, use the ``addFromPaths()`` method:"
   ]
  },
  {
   "cell_type": "code",
   "execution_count": null,
   "metadata": {},
   "outputs": [],
   "source": [
    "newBundle = metadata.bundles.MetadataBundle()\n",
    "paths = corpus.corpora.CoreCorpus().getBachChorales()\n",
    "#_DOCS_SHOW failedPaths = newBundle.addFromPaths(paths)\n",
    "failedPaths = [] #_DOCS_HIDE\n",
    "failedPaths"
   ]
  },
  {
   "cell_type": "markdown",
   "metadata": {},
   "source": [
    "then call ``.write()`` to save to disk"
   ]
  },
  {
   "cell_type": "code",
   "execution_count": null,
   "metadata": {},
   "outputs": [],
   "source": [
    "#_DOCS_SHOW newBundle\n",
    "print(\"<music21.metadata.bundles.MetadataBundle {402 entries}>\") # did not actually run addFromPaths... #_DOCS_HIDE"
   ]
  },
  {
   "cell_type": "raw",
   "metadata": {},
   "source": [
    "..  note::\n",
    "\n",
    "    Building metadata information can be an incredibly intensive process. For\n",
    "    example, building the *core* metadata bundle can easily take as long as four\n",
    "    hours! And this is even though the building process uses multiple cores. \n",
    "    Please use caution, and be patient, when building metadata bundles\n",
    "    from large corpora. To monitor the corpus-building progress, make sure to\n",
    "    set 'debug' to True in your user settings:\n",
    "\n",
    "    >>> #_DOCS_SHOW environment.UserSettings()['debug'] = True"
   ]
  },
  {
   "cell_type": "markdown",
   "metadata": {},
   "source": [
    "You can delete, rebuild and save a metadata bundle in one go with the\n",
    "``rebuild()`` method:"
   ]
  },
  {
   "cell_type": "code",
   "execution_count": null,
   "metadata": {},
   "outputs": [],
   "source": [
    "virtualBundle = corpus.corpora.VirtualCorpus().metadataBundle\n",
    "#_DOCS_SHOW virtualBundle.rebuild()"
   ]
  },
  {
   "cell_type": "markdown",
   "metadata": {},
   "source": [
    "The process of rebuilding will store the file as it goes (for safety) so at the end there is \n",
    "no need to call ``.write()``.\n",
    "\n",
    "To delete a metadata bundle's cached-to-disk JSON file, use the ``delete()``\n",
    "method:"
   ]
  },
  {
   "cell_type": "code",
   "execution_count": null,
   "metadata": {},
   "outputs": [],
   "source": [
    "#_DOCS_SHOW virtualBundle.delete()"
   ]
  },
  {
   "cell_type": "markdown",
   "metadata": {},
   "source": [
    "Deleting a metadata bundle's JSON file won't empty the in-memory contents of\n",
    "that bundle. For that, use ``clear()``:"
   ]
  },
  {
   "cell_type": "code",
   "execution_count": null,
   "metadata": {},
   "outputs": [],
   "source": [
    "virtualBundle.clear()"
   ]
  }
 ],
 "metadata": {
  "anaconda-cloud": {},
  "kernelspec": {
   "display_name": "Python 3",
   "language": "python",
   "name": "python3"
  },
  "language_info": {
   "codemirror_mode": {
    "name": "ipython",
    "version": 3
   },
   "file_extension": ".py",
   "mimetype": "text/x-python",
   "name": "python",
   "nbconvert_exporter": "python",
   "pygments_lexer": "ipython3",
   "version": "3.6.0"
  }
 },
 "nbformat": 4,
 "nbformat_minor": 1
}
